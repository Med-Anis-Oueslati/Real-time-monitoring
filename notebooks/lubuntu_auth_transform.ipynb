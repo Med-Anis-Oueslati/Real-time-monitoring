{
 "cells": [
  {
   "cell_type": "code",
   "execution_count": 25,
   "metadata": {},
   "outputs": [],
   "source": [
    "# Import necessary PySpark modules\n",
    "from pyspark.sql import SparkSession\n",
    "from pyspark.sql.functions import regexp_extract, when, current_timestamp, to_timestamp, col, lit\n",
    "from pyspark.sql.types import StructType, StructField, StringType, TimestampType"
   ]
  },
  {
   "cell_type": "code",
   "execution_count": 21,
   "metadata": {},
   "outputs": [],
   "source": [
    "# Initialize Spark session\n",
    "spark = SparkSession.builder \\\n",
    "    .appName(\"Log Transformation\") \\\n",
    "    .getOrCreate()\n",
    "\n",
    "# Define schema\n",
    "schema = StructType([\n",
    "    StructField(\"timestamp\", TimestampType(), True),\n",
    "    StructField(\"hostname\", StringType(), True),\n",
    "    StructField(\"process\", StringType(), True),\n",
    "    StructField(\"pid\", StringType(), True),\n",
    "    StructField(\"event_type\", StringType(), True),\n",
    "    StructField(\"severity\", StringType(), True),\n",
    "    StructField(\"message\", StringType(), True),\n",
    "    StructField(\"log_source\", StringType(), True),\n",
    "    StructField(\"processed_at\", TimestampType(), True)\n",
    "])"
   ]
  },
  {
   "cell_type": "code",
   "execution_count": 22,
   "metadata": {},
   "outputs": [],
   "source": [
    "# Your sample logs as a list of JSON strings\n",
    "logs = [\n",
    "    {\"message\":\"2025-04-07T12:21:07.533748+01:00 anis-virtualbox systemd-logind[841]: Session 1 logged out. Waiting for processes to exit.\"},\n",
    "    {\"message\":\"2025-04-07T12:21:07.536974+01:00 anis-virtualbox systemd-logind[841]: Removed session 1.\"},\n",
    "    {\"message\":\"2025-04-07T12:21:07.779391+01:00 anis-virtualbox sddm-helper: gkr-pam: unlocked login keyring\"},\n",
    "    {\"message\":\"2025-04-07T12:21:09.340317+01:00 anis-virtualbox polkitd[826]: Registered Authentication Agent for unix-session:3 (system bus name :1.51 [/usr/bin/lxqt-policykit-agent], object path /org/lxqt/PolicyKit1/AuthenticationAgent, locale en_US.UTF-8)\"},\n",
    "    {\"message\":\"2025-04-07T12:21:20.870258+01:00 anis-virtualbox sudo:     anis : TTY=pts/0 ; PWD=/home/anis ; USER=root ; COMMAND=/usr/local/bin/fluentd -c /etc/fluentd.conf -v\"},\n",
    "    {\"message\":\"2025-04-07T12:21:20.871847+01:00 anis-virtualbox sudo: pam_unix(sudo:session): session opened for user root(uid=0) by anis(uid=1000)\"},\n",
    "    {\"message\":\"2025-04-07T12:21:31.609513+01:00 anis-virtualbox sudo:     anis : TTY=pts/2 ; PWD=/home/anis ; USER=root ; COMMAND=/usr/bin/su\"},\n",
    "    {\"message\":\"2025-04-07T12:21:31.609831+01:00 anis-virtualbox sudo: pam_unix(sudo:session): session opened for user root(uid=0) by anis(uid=1000)\"},\n",
    "    {\"message\":\"2025-04-07T12:21:31.620219+01:00 anis-virtualbox su[1719]: (to root) root on pts/3\"},\n",
    "    {\"message\":\"2025-04-07T12:21:31.620730+01:00 anis-virtualbox su[1719]: pam_unix(su:session): session opened for user root(uid=0) by anis(uid=0)\"},\n",
    "    {\"message\":\"2025-04-07T12:21:33.769836+01:00 anis-virtualbox su[1719]: pam_unix(su:session): session closed for user root\"},\n",
    "    {\"message\":\"2025-04-07T12:21:33.772637+01:00 anis-virtualbox sudo: pam_unix(sudo:session): session closed for user root\"},\n",
    "    {\"message\":\"2025-04-07T12:21:34.862691+01:00 anis-virtualbox dbus-daemon[804]: [system] Failed to activate service 'org.bluez': timed out (service_start_timeout=25000ms)\"},\n",
    "    {\"message\":\"2025-04-07T12:25:01.129908+01:00 anis-virtualbox CRON[1766]: pam_unix(cron:session): session opened for user root(uid=0) by root(uid=0)\"},\n",
    "    {\"message\":\"2025-04-07T12:25:01.138020+01:00 anis-virtualbox CRON[1766]: pam_unix(cron:session): session closed for user root\"},\n",
    "    {\"message\":\"2025-04-07T12:30:01.145120+01:00 anis-virtualbox CRON[1836]: pam_unix(cron:session): session opened for user root(uid=0) by root(uid=0)\"},\n",
    "    {\"message\":\"2025-04-07T12:30:01.150387+01:00 anis-virtualbox CRON[1836]: pam_unix(cron:session): session closed for user root\"},\n",
    "    {\"message\":\"2025-04-07T12:35:01.161847+01:00 anis-virtualbox CRON[1909]: pam_unix(cron:session): session opened for user root(uid=0) by root(uid=0)\"},\n",
    "    {\"message\":\"2025-04-07T12:35:01.170794+01:00 anis-virtualbox CRON[1909]: pam_unix(cron:session): session closed for user root\"},\n",
    "    {\"message\":\"2025-04-07T12:36:47.879075+01:00 anis-virtualbox sudo: pam_unix(sudo:auth): authentication failure; logname=anis uid=1000 euid=0 tty=/dev/pts/2 ruser=anis rhost=  user=anis\"},\n",
    "    {\"message\":\"2025-04-07T12:36:54.388158+01:00 anis-virtualbox dbus-daemon[804]: [system] Failed to activate service 'org.bluez': timed out (service_start_timeout=25000ms)\"},\n",
    "    {\"message\":\"2025-04-07T12:36:56.593690+01:00 anis-virtualbox sudo:     anis : TTY=pts/2 ; PWD=/home/anis ; USER=root ; COMMAND=/usr/bin/su\"},\n",
    "    {\"message\":\"2025-04-07T12:36:56.595061+01:00 anis-virtualbox sudo: pam_unix(sudo:session): session opened for user root(uid=0) by anis(uid=1000)\"},\n",
    "    {\"message\":\"2025-04-07T12:36:56.602089+01:00 anis-virtualbox su[1974]: (to root) root on pts/3\"},\n",
    "    {\"message\":\"2025-04-07T12:36:56.604534+01:00 anis-virtualbox su[1974]: pam_unix(su:session): session opened for user root(uid=0) by anis(uid=0)\"},\n",
    "    {\"message\":\"2025-04-07T12:36:58.170036+01:00 anis-virtualbox su[1974]: pam_unix(su:session): session closed for user root\"},\n",
    "    {\"message\":\"2025-04-07T12:36:58.175962+01:00 anis-virtualbox sudo: pam_unix(sudo:session): session closed for user root\"}\n",
    "]"
   ]
  },
  {
   "cell_type": "code",
   "execution_count": 23,
   "metadata": {},
   "outputs": [],
   "source": [
    "# Create a DataFrame from the logs\n",
    "raw_df = spark.createDataFrame(logs)"
   ]
  },
  {
   "cell_type": "code",
   "execution_count": 26,
   "metadata": {},
   "outputs": [],
   "source": [
    "# Transformation function applied as a DataFrame operation\n",
    "transformed_df = raw_df.select(\n",
    "    to_timestamp(\n",
    "        regexp_extract(col(\"message\"), r\"^(\\d{4}-\\d{2}-\\d{2}T\\d{2}:\\d{2}:\\d{2}(?:\\.\\d+)?\\+\\d{2}:\\d{2})\", 1),\n",
    "        \"yyyy-MM-dd'T'HH:mm:ss.SSSSSSXXX\"\n",
    "    ).alias(\"timestamp\"),\n",
    "    regexp_extract(col(\"message\"), r\"^\\S+\\s+(\\S+)\", 1).alias(\"hostname\"),\n",
    "    regexp_extract(\n",
    "        regexp_extract(col(\"message\"), r\"\\s+(\\S+(?:\\[\\d+\\])?):\\s+\", 1), \n",
    "        r\"^(\\S+?)(?:\\[\\d+\\])?$\", 1\n",
    "    ).alias(\"process\"),\n",
    "    regexp_extract(\n",
    "        regexp_extract(col(\"message\"), r\"\\s+(\\S+(?:\\[\\d+\\])?):\\s+\", 1), \n",
    "        r\"\\[(\\d+)\\]\", 1\n",
    "    ).alias(\"pid\"),\n",
    "    when(col(\"message\").contains(\"session opened for user\"), \"session_open\")\n",
    "    .when(col(\"message\").contains(\"session closed for user\"), \"session_close\")\n",
    "    .when(col(\"message\").contains(\"COMMAND=\"), \"sudo_command\")\n",
    "    .when(col(\"message\").contains(\"pam_unix(su:session)\"), \"su_session\")\n",
    "    .when(col(\"message\").contains(\"pam_unix(cron:session)\"), \"cron_session\")\n",
    "    .when(col(\"message\").contains(\"systemd-logind\"), \"logind_event\")\n",
    "    .when(col(\"message\").contains(\"New session\") | col(\"message\").contains(\"Removed session\"), \"session_event\")\n",
    "    .when(col(\"message\").contains(\"Failed to activate\") | col(\"message\").contains(\"unable to locate\"), \"error\")\n",
    "    .otherwise(\"auth_misc\").alias(\"event_type\"),\n",
    "    when(col(\"message\").contains(\"Failed to activate\") | col(\"message\").contains(\"unable to locate\"), \"high\")\n",
    "    .when(col(\"message\").contains(\"COMMAND=\") | col(\"message\").contains(\"su:session\"), \"medium\")\n",
    "    .when(col(\"message\").contains(\"session opened\") | col(\"message\").contains(\"session closed\"), \"low\")\n",
    "    .otherwise(\"info\").alias(\"severity\"),\n",
    "    regexp_extract(col(\"message\"), r\"\\s+\\S+(?:\\[\\d+\\])?:\\s+(.*)\", 1).alias(\"message\"),\n",
    "    lit(\"system\").alias(\"log_source\"),\n",
    "    current_timestamp().alias(\"processed_at\")\n",
    ")"
   ]
  },
  {
   "cell_type": "code",
   "execution_count": 27,
   "metadata": {},
   "outputs": [
    {
     "name": "stdout",
     "output_type": "stream",
     "text": [
      "Transformed Logs DataFrame:\n"
     ]
    },
    {
     "name": "stderr",
     "output_type": "stream",
     "text": [
      "                                                                                \r"
     ]
    },
    {
     "name": "stdout",
     "output_type": "stream",
     "text": [
      "+--------------------------+---------------+--------------+---+------------+--------+------------------------------------------------------------------------------------------------------------------------------------------------------------------------------------+----------+-------------------------+\n",
      "|timestamp                 |hostname       |process       |pid|event_type  |severity|message                                                                                                                                                                             |log_source|processed_at             |\n",
      "+--------------------------+---------------+--------------+---+------------+--------+------------------------------------------------------------------------------------------------------------------------------------------------------------------------------------+----------+-------------------------+\n",
      "|2025-04-07 12:21:07.533748|anis-virtualbox|systemd-logind|841|logind_event|info    |Session 1 logged out. Waiting for processes to exit.                                                                                                                                |system    |2025-04-07 14:18:38.35706|\n",
      "|2025-04-07 12:21:07.536974|anis-virtualbox|systemd-logind|841|logind_event|info    |Removed session 1.                                                                                                                                                                  |system    |2025-04-07 14:18:38.35706|\n",
      "|2025-04-07 12:21:07.779391|anis-virtualbox|sddm-helper   |   |auth_misc   |info    |gkr-pam: unlocked login keyring                                                                                                                                                     |system    |2025-04-07 14:18:38.35706|\n",
      "|2025-04-07 12:21:09.340317|anis-virtualbox|polkitd       |826|auth_misc   |info    |Registered Authentication Agent for unix-session:3 (system bus name :1.51 [/usr/bin/lxqt-policykit-agent], object path /org/lxqt/PolicyKit1/AuthenticationAgent, locale en_US.UTF-8)|system    |2025-04-07 14:18:38.35706|\n",
      "|2025-04-07 12:21:20.870258|anis-virtualbox|sudo          |   |sudo_command|medium  |anis : TTY=pts/0 ; PWD=/home/anis ; USER=root ; COMMAND=/usr/local/bin/fluentd -c /etc/fluentd.conf -v                                                                              |system    |2025-04-07 14:18:38.35706|\n",
      "+--------------------------+---------------+--------------+---+------------+--------+------------------------------------------------------------------------------------------------------------------------------------------------------------------------------------+----------+-------------------------+\n",
      "only showing top 5 rows\n",
      "\n",
      "\n",
      "DataFrame Schema:\n",
      "root\n",
      " |-- timestamp: timestamp (nullable = true)\n",
      " |-- hostname: string (nullable = true)\n",
      " |-- process: string (nullable = true)\n",
      " |-- pid: string (nullable = true)\n",
      " |-- event_type: string (nullable = false)\n",
      " |-- severity: string (nullable = false)\n",
      " |-- message: string (nullable = true)\n",
      " |-- log_source: string (nullable = false)\n",
      " |-- processed_at: timestamp (nullable = false)\n",
      "\n"
     ]
    },
    {
     "name": "stderr",
     "output_type": "stream",
     "text": [
      "                                                                                \r"
     ]
    },
    {
     "name": "stdout",
     "output_type": "stream",
     "text": [
      "\n",
      "Saved to 'transformed_logs_spark' directory\n"
     ]
    }
   ],
   "source": [
    "# Show the transformed DataFrame\n",
    "print(\"Transformed Logs DataFrame:\")\n",
    "transformed_df.show(5, truncate=False)\n",
    "\n",
    "# Display schema\n",
    "print(\"\\nDataFrame Schema:\")\n",
    "transformed_df.printSchema()\n",
    "\n",
    "# Optional: Save to CSV\n",
    "transformed_df.write.csv(\"transformed_logs_spark\", header=True, mode=\"overwrite\")\n",
    "print(\"\\nSaved to 'transformed_logs_spark' directory\")\n",
    "\n",
    "# Stop the Spark session\n",
    "spark.stop()"
   ]
  }
 ],
 "metadata": {
  "kernelspec": {
   "display_name": ".venv",
   "language": "python",
   "name": "python3"
  },
  "language_info": {
   "codemirror_mode": {
    "name": "ipython",
    "version": 3
   },
   "file_extension": ".py",
   "mimetype": "text/x-python",
   "name": "python",
   "nbconvert_exporter": "python",
   "pygments_lexer": "ipython3",
   "version": "3.12.3"
  }
 },
 "nbformat": 4,
 "nbformat_minor": 2
}
